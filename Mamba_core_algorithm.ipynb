{
  "cells": [
    {
      "cell_type": "code",
      "execution_count": null,
      "metadata": {},
      "outputs": [],
      "source": [
        "!pip install einops\n",
        "!pip install tensorflow\n",
        "!pip install torch"
      ]
    },
    {
      "cell_type": "markdown",
      "metadata": {
        "id": "MhzRCkZD1XaK"
      },
      "source": [
        "# Mamba 1 Selective Scan Algorithm"
      ]
    },
    {
      "cell_type": "code",
      "execution_count": null,
      "metadata": {},
      "outputs": [],
      "source": [
        "import tensorflow as tf\n",
        "def selective_scan(u, delta, A, B, C, D):\n",
        "    # first step of A_bar = exp(ΔA), i.e., ΔA\n",
        "    dA = tf.einsum('bld,dn->bldn', delta, A)\n",
        "    dB_u = tf.einsum('bld,bld,bln->bldn', delta, u, B)\n",
        "\n",
        "    dA_cumsum = tf.pad(\n",
        "        dA[:, 1:], [[0, 0], [1, 1], [0, 0], [0, 0]])[:, 1:, :, :]\n",
        "\n",
        "    dA_cumsum = tf.reverse(dA_cumsum, axis=[1])  # Flip along axis 1\n",
        "\n",
        "    # Cumulative sum along all the input tokens, parallel prefix sum,\n",
        "    # calculates dA for all the input tokens parallely\n",
        "    dA_cumsum = tf.math.cumsum(dA_cumsum, axis=1)\n",
        "\n",
        "    # second step of A_bar = exp(ΔA), i.e., exp(ΔA)\n",
        "    dA_cumsum = tf.exp(dA_cumsum)\n",
        "    dA_cumsum = tf.reverse(dA_cumsum, axis=[1])  # Flip back along axis 1\n",
        "\n",
        "    x = dB_u * dA_cumsum\n",
        "    # 1e-12 to avoid division by 0\n",
        "    x = tf.math.cumsum(x, axis=1)/(dA_cumsum + 1e-12)\n",
        "\n",
        "    y = tf.einsum('bldn,bln->bld', x, C)\n",
        "\n",
        "    return y + u * D"
      ]
    },
    {
      "cell_type": "code",
      "execution_count": null,
      "metadata": {
        "id": "EYY-snHz0JqK"
      },
      "outputs": [],
      "source": [
        "# random tensors for testing purposes\n",
        "import tensorflow as tf\n",
        "b = 5\n",
        "l = 3\n",
        "d = 1\n",
        "n = 2\n",
        "delta = tf.random.uniform((b,l,d), minval=0, maxval=1, dtype=tf.float32)  # (b,l,d)\n",
        "A = tf.random.uniform((d,n), minval=0, maxval=1, dtype=tf.float32)  # (d,n)\n",
        "u = tf.random.uniform((b,l,d), minval=0, maxval=1, dtype=tf.float32)  # (b,l,d)\n",
        "x_new = tf.zeros((b, l, n))\n",
        "B = tf.random.uniform((b,l,n), minval=0, maxval=1, dtype=tf.float32)  # (b,l,n)\n",
        "C = tf.random.uniform((d,n), minval=0, maxval=1, dtype=tf.float32)  # (d,n)"
      ]
    },
    {
      "cell_type": "code",
      "execution_count": null,
      "metadata": {
        "id": "m8XgxEU0-rgX"
      },
      "outputs": [],
      "source": [
        "# first step of A_bar = exp(ΔA), i.e., ΔA\n",
        "dA = tf.einsum('bld,dn->bldn', delta, A)\n",
        "# how does B change dependend on input u\n",
        "dB_u = tf.einsum('bld,bld,bln->bldn', delta, u, B)\n",
        "\n",
        "dA_cumsum = tf.pad(\n",
        "    dA[:, 1:], [[0, 0], [1, 1], [0, 0], [0, 0]])[:, 1:, :, :]\n",
        "\n",
        "dA_cumsum = tf.reverse(dA_cumsum, axis=[1])  # Flip along axis 1"
      ]
    },
    {
      "cell_type": "markdown",
      "metadata": {
        "id": "IzHTOk174PCc"
      },
      "source": [
        "$\\ dA_{flipped} ~=~ [0 ~~~ A_l\\Delta_l ~~~ A_{l-1}\\Delta_{l-1} ~~~ A_{l-2}\\Delta_{l-2} ~~~ ... ~~~ A_1\\Delta_1]$"
      ]
    },
    {
      "cell_type": "code",
      "execution_count": null,
      "metadata": {
        "id": "4bY33wZr4Hmn"
      },
      "outputs": [],
      "source": [
        "# Cumulative sum along all the input tokens, parallel prefix sum,\n",
        "# calculates dA for all the input tokens parallely\n",
        "dA_cumsum = tf.math.cumsum(dA_cumsum, axis=1)"
      ]
    },
    {
      "cell_type": "markdown",
      "metadata": {
        "id": "kxggBDce4WKM"
      },
      "source": [
        "$\\ dA_{cumsum} ~=~ [0 ~~~~ 0+A_l\\Delta_l ~~~~ 0+A_l\\Delta_l + A_{l-1}\\Delta_{l-1} ~~~~  ... ~~~~ 0+A_l\\Delta_l+...+ A_1\\Delta_1] $"
      ]
    },
    {
      "cell_type": "code",
      "execution_count": null,
      "metadata": {
        "id": "r5Fpb_gp4VFM"
      },
      "outputs": [],
      "source": [
        "# second step of A_bar = exp(ΔA), i.e., exp(ΔA)\n",
        "dA_cumsum = tf.exp(dA_cumsum)\n",
        "dA_cumsum = tf.reverse(dA_cumsum, axis=[1])  # Flip back along axis 1"
      ]
    },
    {
      "cell_type": "markdown",
      "metadata": {
        "id": "epFc_9Fs4rOI"
      },
      "source": [
        "$\\ dA_{cumsum} ~=~ [e^{0+A_l\\Delta_l+...+ A_1\\Delta_1} ~~~~ e^{0+A_l\\Delta_l+...+ A_2\\Delta_2} ~~~~ ... ~~~~ e^{A_l\\Delta_l} ~~~~ e^0] $"
      ]
    },
    {
      "cell_type": "markdown",
      "metadata": {
        "id": "pVGLTvWr5YyC"
      },
      "source": [
        "Simplification in Paper:\n",
        "$\n",
        "\\overline{B} = B * \\Delta\n",
        "$"
      ]
    },
    {
      "cell_type": "code",
      "execution_count": null,
      "metadata": {
        "id": "sMIiIltCM9rs"
      },
      "outputs": [],
      "source": [
        "x = dB_u * dA_cumsum_exp\n",
        "# 1e-12 to avoid division by 0\n",
        "x_ref = tf.math.cumsum(x, axis=1)/(dA_cumsum_exp + 1e-12)"
      ]
    },
    {
      "cell_type": "markdown",
      "metadata": {
        "id": "uFEsRekh6CPv"
      },
      "source": [
        "without simplification:\n",
        "$\n",
        "\\overline{B} = \\frac{(e^{A* \\Delta}) - I) * B * \\Delta}{A* \\Delta}\n",
        "$"
      ]
    },
    {
      "cell_type": "code",
      "execution_count": null,
      "metadata": {
        "id": "k7sbkU9ZNZ6K"
      },
      "outputs": [],
      "source": [
        "# --without simplification\n",
        "\n",
        "dB = tf.einsum('bld,bln->bldn', delta, B)\n",
        "\n",
        "\n",
        "B_head = (dA * dB) / (dA + 1e-12)\n",
        "B_head_u = tf.einsum('bldn,bld->bldn', B_head, u)\n",
        "x_pre = B_head_u * dA_cumsum_exp\n",
        "x_own = tf.math.cumsum(x_pre, axis=1)/(dA_cumsum_exp + 1e-12)"
      ]
    },
    {
      "cell_type": "markdown",
      "metadata": {
        "id": "slGbgVGAEXaX"
      },
      "source": [
        "$\\ h_0 = \\frac{\\Delta_0B_0x_0*e^{0+A_l\\Delta_l+...+ A_1\\Delta_1}}{e^{0+A_l\\Delta_l+...+ A_1\\Delta_1}}=\\Delta_0B_0x_0$"
      ]
    },
    {
      "cell_type": "markdown",
      "metadata": {
        "id": "BZF85bdFGDMs"
      },
      "source": [
        "$\\ h_1 = \\frac{\\Delta_0B_0x_0*e^{0+A_l\\Delta_l+...+ A_1\\Delta_1} + \\Delta_1B_1x_1*e^{0+A_l\\Delta_l+...+ A_2\\Delta_2}}{e^{0+A_l\\Delta_l+...+ A_2\\Delta_2}} \\\\ h_1 =\\Delta_0B_0x_0*e^{A_1\\Delta_1}+ \\Delta_1B_1x_1$"
      ]
    },
    {
      "cell_type": "markdown",
      "metadata": {
        "id": "A4so0Jf9ZOeo"
      },
      "source": [
        "$\\ h_2 = \\frac{\\Delta_0B_0x_0*e^{0+A_l\\Delta_l+...+ A_1\\Delta_1} + \\Delta_1B_1x_1*e^{0+A_l\\Delta_l+...+ A_2\\Delta_2} + \\Delta_2B_2x_2*e^{0+A_l\\Delta_l+...+ A_3\\Delta_3}}{e^{0+A_l\\Delta_l+...+ A_3\\Delta_3}}\\\\h_2=\\Delta_0B_0x_0*e^{A_2\\Delta_2} * e^{A_1\\Delta_1} + \\Delta_1B_1x_1 * e^{A_2\\Delta_2} + \\Delta_2 B_2 x_2$"
      ]
    },
    {
      "cell_type": "markdown",
      "metadata": {
        "id": "14EyXkpDa6oL"
      },
      "source": [
        "# Mamba 2 SSD Algorithm"
      ]
    },
    {
      "cell_type": "code",
      "execution_count": null,
      "metadata": {
        "colab": {
          "base_uri": "https://localhost:8080/"
        },
        "id": "7jswKoEwa-u8",
        "outputId": "b3ffb729-ae7e-4048-a884-e1e231d2588d"
      },
      "outputs": [
        {
          "name": "stdout",
          "output_type": "stream",
          "text": [
            "Collecting einops\n",
            "  Downloading einops-0.8.0-py3-none-any.whl.metadata (12 kB)\n",
            "Downloading einops-0.8.0-py3-none-any.whl (43 kB)\n",
            "\u001b[?25l   \u001b[90m━━━━━━━━━━━━━━━━━━━━━━━━━━━━━━━━━━━━━━━━\u001b[0m \u001b[32m0.0/43.2 kB\u001b[0m \u001b[31m?\u001b[0m eta \u001b[36m-:--:--\u001b[0m\r\u001b[2K   \u001b[90m━━━━━━━━━━━━━━━━━━━━━━━━━━━━━━━━━━━━━━━━\u001b[0m \u001b[32m43.2/43.2 kB\u001b[0m \u001b[31m2.5 MB/s\u001b[0m eta \u001b[36m0:00:00\u001b[0m\n",
            "\u001b[?25hInstalling collected packages: einops\n",
            "Successfully installed einops-0.8.0\n"
          ]
        }
      ],
      "source": [
        "!pip install einops\n",
        "from einops import rearrange\n",
        "import torch\n",
        "import torch.nn.functional as F\n",
        "\n",
        "def segsum(x):\n",
        "  \"\"\"Naive segment sum calculation. exp(segsum(A)) produces a 1-SS matrix,\n",
        "  which is equivalent to a scalar SSM. This is for the off diagonal blocks\"\"\"\n",
        "  # T = per_block_seq_len\n",
        "  T = x.size(-1)\n",
        "  x_cumsum = torch.cumsum(x, dim=-1)\n",
        "  x_segsum = x_cumsum[..., :, None] - x_cumsum[..., None, :]\n",
        "  mask = torch.tril(torch.ones(T, T, device=x.device, dtype=bool), diagonal=0)\n",
        "  x_segsum = x_segsum.masked_fill(~mask, -1e9)\n",
        "  return x_segsum\n",
        "\n",
        "\n",
        "def ssd(X, A, B, C, block_len=64, initial_states=None):\n",
        "  \"\"\"\n",
        "  Arguments:\n",
        "  X: (batch, length, n_heads, d_head)\n",
        "  A: (batch, length, n_heads)\n",
        "  B: (batch, length, n_heads, d_state)\n",
        "  C: (batch, length, n_heads, d_state)\n",
        "  Return:\n",
        "  Y: (batch, length, n_heads,d_head)\n",
        "  \"\"\"\n",
        "\n",
        "  assert X.dtype == A.dtype == B.dtype == C.dtype\n",
        "  assert X.shape[1] % block_len == 0\n",
        "  # Rearrange into blocks/chunks\n",
        "  # devide these along the time dimension in c blocks with len l\n",
        "  # length: (b, c*l, n_heads, d_head/d_state) -> (b, c, l, n_heads, d_head/d_state)\n",
        "  X, A, B, C = [rearrange(x, \"b (c l) ... -> b c l ...\", l=block_len) for x in (X, A, B, C)]\n",
        "  # A is a scalar for every head\n",
        "  A = rearrange(A, \"b c l h -> b h c l\")\n",
        "  # cumsum along the time dimension\n",
        "  A_cumsum = torch.cumsum(A, dim=-1)\n",
        "\n",
        "  # 1. Compute the output for each intra-chunk (diagonal blocks)\n",
        "  L = torch.exp(segsum(A))\n",
        "  Y_diag = torch.einsum(\"bclhn,bcshn,bhcls,bcshp->bclhp\", C, B, L, X)\n",
        "\n",
        "  # 2. Compute the state for each intra-chunk\n",
        "  # (right term of low-rank factorization of off-diagonal blocks; B terms)\n",
        "  decay_states = torch.exp((A_cumsum[:, :, :, -1:] - A_cumsum))\n",
        "  states = torch.einsum(\"bclhn,bhcl,bclhp->bchpn\", B, decay_states, X)\n",
        "\n",
        "  # 3. Compute the inter-chunk SSM recurrence; produces correct SSM states at chunk boundaries # (middle term of factorization of off-diag blocks; A terms)\n",
        "  if initial_states is None:\n",
        "    initial_states = torch.zeros_like(states[:, :1])\n",
        "  states = torch.cat([initial_states, states], dim=1)\n",
        "  decay_chunk = torch.exp(segsum(F.pad(A_cumsum[:, :, :, -1], (1, 0))))\n",
        "  new_states = torch.einsum(\"bhzc,bchpn->bzhpn\", decay_chunk, states)\n",
        "  states, final_state = new_states[:, :-1], new_states[:, -1]\n",
        "\n",
        "  # 4. Compute state -> output conversion per chunk\n",
        "  # (left term of low-rank factorization of off-diagonal blocks; C terms) state_decay_out = torch.exp(A_cumsum)\n",
        "  state_decay_out = torch.exp(A_cumsum)\n",
        "  Y_off = torch.einsum('bclhn,bchpn,bhcl->bclhp', C, states, state_decay_out)\n",
        "\n",
        "  # Add output of intra-chunk and inter-chunk terms (diagonal and off-diagonal blocks)\n",
        "  Y = rearrange(Y_diag+Y_off, \"b c l h p -> b (c l) h p\")\n",
        "  return Y, final_state\n"
      ]
    },
    {
      "cell_type": "markdown",
      "metadata": {
        "id": "CrAihTOkJoRK"
      },
      "source": [
        "## Computation of L (lookahead-mask) and Y_diag (diagonal blocks output)"
      ]
    },
    {
      "cell_type": "code",
      "execution_count": null,
      "metadata": {
        "id": "sododqkDh9zX"
      },
      "outputs": [],
      "source": [
        "# create random tensor for debugging\n",
        "n_heads = 1\n",
        "batch = 1\n",
        "seq_len = 6\n",
        "d_head = 2\n",
        "d_state = 3\n",
        "block_len = 3\n",
        "A = torch.randint(0, 10, (batch, seq_len, n_heads))"
      ]
    },
    {
      "cell_type": "markdown",
      "metadata": {
        "id": "SVmV_1Ibgzqo"
      },
      "source": [
        "$ \\begin{bmatrix}\n",
        "A_1 & A_2 & A_3 & A_4 & A_5 & A_6\n",
        "\\end{bmatrix}  $"
      ]
    },
    {
      "cell_type": "code",
      "execution_count": null,
      "metadata": {
        "id": "hrONLxQ8KzsR"
      },
      "outputs": [],
      "source": [
        "A_rearranged = rearrange(A, \"b (c l) n-> b c l n\", l=block_len)\n",
        "A_rearranged = rearrange(A_rearranged, \"b c l h -> b h c l\")"
      ]
    },
    {
      "cell_type": "markdown",
      "metadata": {
        "id": "3LsdwY5ohmsP"
      },
      "source": [
        "(batch, n_heads,sequence_length/block_len, block_len)"
      ]
    },
    {
      "cell_type": "markdown",
      "metadata": {
        "id": "VMYyxZ8Dhpzt"
      },
      "source": [
        "$ \\begin{bmatrix}\n",
        "[A_1 & A_2 & A_3 ][A_4 & A_5 & A_6]\n",
        "\\end{bmatrix}  $"
      ]
    },
    {
      "cell_type": "code",
      "execution_count": null,
      "metadata": {
        "id": "INQyHeQiLBGg"
      },
      "outputs": [],
      "source": [
        "A_cumsum = torch.cumsum(A_rearranged, dim=-1)\n",
        "x_segsum = A_cumsum[..., :, None] - A_cumsum[..., None, :]\n",
        "T = A_cumsum.size(-1)"
      ]
    },
    {
      "cell_type": "markdown",
      "metadata": {
        "id": "xwt9bT2OMkxc"
      },
      "source": [
        "cumsum and broadcast to shape: (batch, n_heads, num_blocks, block_len, block_len)"
      ]
    },
    {
      "cell_type": "markdown",
      "metadata": {
        "id": "3dx69wDhM7OS"
      },
      "source": [
        "$\n",
        "\\begin{bmatrix}\n",
        "  \\begin{bmatrix}\n",
        "  A_1-A1 & A_1-(A_1+A_2) & A_1-(A_1+A_2+A_3) \\\\ A_1+A_2-A_1 & A_1+A_2-(A_1+A_2) & A_1+A_2-(A_1+A_2+A_3) \\\\ A_1+A_2+A_3-A_1 & A_1+A_2+A_3-(A_1+A_2) & A_1+A_2+A_3-(A_1+A_2+A_3)\n",
        "  \\end{bmatrix}  \n",
        "  \\begin{bmatrix}\n",
        "  A_4-A_4 & A_4-(A_4+A_5) & A_4-(A_4+A_5+A_6) \\\\ A_4+A_5-A_4 & A_4+A_5-(A_4+A_5) & A_4+A_5-(A_4+A_5+A_6) \\\\ A_4+A_5+A_6-A_4 & A_4+A_5+A_6-(A_4+A_5) & A_4+A_5+A_6-(A_4+A_5+A_6)\n",
        "  \\end{bmatrix}\n",
        "\\end{bmatrix}  \n",
        "$\n",
        "\n",
        "\n",
        "=\n",
        "\n",
        "$ \\begin{bmatrix}\n",
        "    \\begin{bmatrix}\n",
        "    0 & -A_1 & -A_2-A_3 \\\\\n",
        "    A_2 & 0 & -A_1 \\\\ A_2+A_3 & A3 & 0\n",
        "    \\end{bmatrix}\n",
        "    \\begin{bmatrix}\n",
        "    0 & -A_4 & -A_5-A_6 \\\\\n",
        "    A_5 & 0 & -A_4 \\\\ A_5+A_6 & A6 & 0\n",
        "    \\end{bmatrix}\n",
        "\\end{bmatrix}  $"
      ]
    },
    {
      "cell_type": "code",
      "execution_count": null,
      "metadata": {
        "id": "tubawxrkRquX"
      },
      "outputs": [],
      "source": [
        "mask = torch.tril(torch.ones(T, T, device=x.device, dtype=bool), diagonal=0)\n",
        "x_segsum = x_segsum.masked_fill(~mask, -1e9)\n",
        "L = torch.exp(segsum(x_segsum))"
      ]
    },
    {
      "cell_type": "markdown",
      "metadata": {
        "id": "A8tR-FG7R-AD"
      },
      "source": [
        "$ \\begin{bmatrix}\n",
        "    \\begin{bmatrix}\n",
        "    1 & 0 & 0 \\\\\n",
        "    e^{A_2} & 1 & 0 \\\\\n",
        "    e^{A_2+A_3} & e^{A3} & 1\n",
        "    \\end{bmatrix}\n",
        "    \\begin{bmatrix}\n",
        "    1 & 0 & 0 \\\\\n",
        "    e^{A_5} & 1 & 0 \\\\\n",
        "    e^{A_5+A_6} & e^{A6} & 1\n",
        "    \\end{bmatrix}\n",
        "\\end{bmatrix}  $"
      ]
    },
    {
      "cell_type": "code",
      "execution_count": null,
      "metadata": {
        "id": "pRYDn1bx6_qe"
      },
      "outputs": [],
      "source": [
        "n_heads = 1\n",
        "batch = 2\n",
        "seq_len = 6\n",
        "d_head = 2\n",
        "d_state = 3\n",
        "block_len = 3\n",
        "\n",
        "A = torch.randint(0, 10, (batch, seq_len, n_heads))\n",
        "X = torch.randint(0, 10, (batch, seq_len, n_heads, d_head))\n",
        "B = torch.randint(0, 10, (batch, seq_len, n_heads, d_state))\n",
        "C = torch.randint(0, 10, (batch, seq_len, n_heads, d_state))\n",
        "\n",
        "X, A, B, C = [rearrange(x, \"b (c l) ... -> b c l ...\", l=block_len) for x in (X, A, B, C)]\n",
        "# A is a scalar for every head\n",
        "A = rearrange(A, \"b c l h -> b h c l\")\n",
        "# cumsum along the time dimension\n",
        "A_cumsum = torch.cumsum(A, dim=-1)\n",
        "\n",
        "# 1. Compute the output for each intra-chunk (diagonal blocks)\n",
        "L = torch.exp(segsum(A))\n",
        "\n",
        "Y_diag = torch.einsum(\"bclhn,bcshn,bhcls,bcshp->bclhp\", C.float(), B.float(), L.float(), X.float())\n",
        "\n",
        "# outer product between C and B to get quadratic in seq_len equivalent to Q*K_T\n",
        "CB_t = torch.einsum('bclhn,bcshn->bhclsn', C.float(), B.float())\n",
        "# multiply with lookahead mask (only diagonal matrices are needed)\n",
        "LCB_t = torch.einsum(\"bhclsn,bhcls->bhclsn\", CB_t, L)\n",
        "# multiply with X (equivalent to Values V)\n",
        "# (L*Q*K_T)*V  <--> (L*C*B_T)*X\n",
        "Y_diag_test = torch.einsum('bhclsn,bcshp->bclhp', LCB_t, X.float())\n",
        "\n",
        "torch.allclose(Y_diag, Y_diag_test)"
      ]
    },
    {
      "cell_type": "markdown",
      "metadata": {
        "id": "CpcKEULKWfRI"
      },
      "source": [
        "## Computation of states"
      ]
    },
    {
      "cell_type": "code",
      "execution_count": null,
      "metadata": {
        "id": "ih-ySwmpV41Z"
      },
      "outputs": [],
      "source": [
        "n_heads = 1\n",
        "batch = 1\n",
        "seq_len = 9\n",
        "d_head = 1\n",
        "d_state = 1\n",
        "block_len = 3\n",
        "\n",
        "A = torch.randint(0, 10, (batch, seq_len, n_heads))\n",
        "X = torch.randint(0, 10, (batch, seq_len, n_heads, d_head))\n",
        "B = torch.randint(0, 10, (batch, seq_len, n_heads, d_state))\n",
        "C = torch.randint(0, 10, (batch, seq_len, n_heads, d_state))\n",
        "\n",
        "X, A, B, C = [rearrange(x, \"b (c l) ... -> b c l ...\", l=block_len) for x in (X, A, B, C)]\n",
        "# bring head dimension to the front\n",
        "A_rearranged = rearrange(A, \"b c l h -> b h c l\")\n",
        "\n",
        "A_cumsum = torch.cumsum(A_rearranged, dim=-1)\n",
        "\n",
        "decay_states = A_cumsum[:, :, :, -1:] - A_cumsum"
      ]
    },
    {
      "cell_type": "markdown",
      "metadata": {
        "id": "AKIxWYm9Y1Qw"
      },
      "source": [
        "$ \\begin{bmatrix}\n",
        "[e^{A_1+A_2+A_3-A_1} & e^{A_1+A_2+A_3-A_1-A_2} & e^{A_1+A_2+A_3-A_1-A_2-A_3} ][e^{A_4+A_5+A_6-A_4} & e^{A_4+A_5+A_6-A_4-A_5} & e^{A_4+A_5+A_6-A_4-A_5-A_6}]\n",
        "[e^{A_7+A_8+A_9-A_7} & e^{A_7+A_8+A_9-A_7-A_8} & e^{A_7+A_8+A_9-A_7-A_8-A_9}]\n",
        "\\end{bmatrix}  $\n",
        "\n",
        "=\n",
        "\n",
        "$ \\begin{bmatrix}\n",
        "[e^{A_2+A_3} & e^{A_3} & 1 ][e^{A_5+A_6} & e^{A_6} & 1][e^{A_8+A_9} & e^{A_9} & 1]\n",
        "\\end{bmatrix}  $"
      ]
    },
    {
      "cell_type": "code",
      "execution_count": null,
      "metadata": {
        "id": "b2dZPXjrW2q0"
      },
      "outputs": [],
      "source": [
        "states = torch.einsum(\"bclhn,bhcl,bclhp->bchpn\", B.float(), decay_states.float(), X.float())\n",
        "BA = torch.einsum(\"bclhn,bhcl->bhcln\", B.float(), decay_states.float())"
      ]
    },
    {
      "cell_type": "markdown",
      "metadata": {
        "id": "VnD3KGYpgPlj"
      },
      "source": [
        "(batch=1, n_heads=1, n_blocks=3, block_len=3, d_state=2)"
      ]
    },
    {
      "cell_type": "markdown",
      "metadata": {
        "id": "NhxPxdh9e06V"
      },
      "source": [
        "$ \\begin{bmatrix}\n",
        "\\begin{bmatrix}\n",
        "e^{A_2+A_3}*B_{11} & e^{A_2+A_3}*B_{12} \\\\\n",
        "e^{A_3}*B_{21} & e^{A_3}*B_{22} \\\\\n",
        "B_{31} & B_{32}\n",
        "\\end{bmatrix}\n",
        "\\begin{bmatrix}\n",
        "e^{A_5+A_6}*B_{41} & e^{A_5+A_6}*B_{42} \\\\\n",
        "e^{A_6}*B_{51} & e^{A_6}*B_{52} \\\\\n",
        "B_{61} & B_{62}\n",
        "\\end{bmatrix}\n",
        "\\begin{bmatrix}\n",
        "e^{A_8+A_9}*B_{71} & e^{A_8+A_9}*B_{72} \\\\\n",
        "e^{A_9}*B_{81} & e^{A_9}*B_{82}] \\\\\n",
        "B_{91} & B_{92}\n",
        "\\end{bmatrix}\n",
        "\\end{bmatrix}  $"
      ]
    },
    {
      "cell_type": "code",
      "execution_count": null,
      "metadata": {
        "colab": {
          "base_uri": "https://localhost:8080/"
        },
        "id": "8s8axHpXfOzV",
        "outputId": "2e2639f1-f346-4ef8-93a4-3916dedc4301"
      },
      "outputs": [
        {
          "data": {
            "text/plain": [
              "True"
            ]
          },
          "execution_count": 22,
          "metadata": {},
          "output_type": "execute_result"
        }
      ],
      "source": [
        "# (batch, n_blocks, n_heads, d_head, d_state)\n",
        "X_rearranged = rearrange(X, \"b c l h p -> b h c l p\")\n",
        "states_test = torch.einsum(\"bhcln,bhclp->bchnp\", BA, X_rearranged.float())\n",
        "states_test = rearrange(states_test, \"b c h n p -> b c h p n\")\n",
        "torch.allclose(states, states_test)"
      ]
    },
    {
      "cell_type": "markdown",
      "metadata": {
        "id": "bTzQtCoyu4Nd"
      },
      "source": [
        "(batch=1, n_heads=1, n_blocks=3, d_state=2, block_len=3) * (batch=1, n_head=1, n_blocks=3, block_len=3, d_head=4) = (batch=1, n_blocks=3, n_heads=1, d_head=4, d_state=2)"
      ]
    },
    {
      "cell_type": "markdown",
      "metadata": {
        "id": "4HJkfCKPnek7"
      },
      "source": [
        "$ \\begin{bmatrix}\n",
        "\\begin{bmatrix}\n",
        "e^{A_2+A_3}*B_{11} & e^{A_2+A_3}*B_{12} \\\\\n",
        "e^{A_3}*B_{21} & e^{A_3}*B_{22} \\\\\n",
        "B_{31} & B_{32}\n",
        "\\end{bmatrix}^T\n",
        "\\begin{bmatrix}\n",
        "e^{A_5+A_6}*B_{41} & e^{A_5+A_6}*B_{42} \\\\\n",
        "e^{A_6}*B_{51} & e^{A_6}*B_{52} \\\\\n",
        "B_{61} & B_{62}\n",
        "\\end{bmatrix}^T\n",
        "\\begin{bmatrix}\n",
        "e^{A_8+A_9}*B_{71} & e^{A_8+A_9}*B_{72} \\\\\n",
        "e^{A_9}*B_{81} & e^{A_9}*B_{82}] \\\\\n",
        "B_{91} & B_{92}\n",
        "\\end{bmatrix}^T\n",
        "\\end{bmatrix}  $\n",
        "\n",
        "*\n",
        "\n",
        "$\n",
        "\\begin{bmatrix}\n",
        "  \\begin{bmatrix}\n",
        "  X_{11} & X_{12} & X_{13} & X_{14} \\\\ X_{21} & X_{22} & X_{23} & X_{24}\\\\ X_{31} & X_{32} & X_{33} & X_{34}\n",
        "  \\end{bmatrix}\n",
        "  \\begin{bmatrix}\n",
        "  X_{41} & X_{42} & X_{43} & X_{44} \\\\ X_{51} & X_{52} & X_{53} & X_{54} \\\\ X_{61} & X_{62} & X_{63} & X_{64}\n",
        "  \\end{bmatrix}\n",
        "  \\begin{bmatrix}\n",
        "  X_{71} & X_{72} & X_{73} & X_{74} \\\\\n",
        "  X_{81} & X_{82} & X_{83} & X_{84} \\\\\n",
        "  X_{91} & X_{92} & X_{93} & X_{94}\n",
        "  \\end{bmatrix}\n",
        "\\end{bmatrix}\n",
        "$\n",
        "\n",
        "=\n",
        "\n"
      ]
    },
    {
      "cell_type": "markdown",
      "metadata": {
        "id": "IOwpfzSpDw7Y"
      },
      "source": [
        "$ \\begin{bmatrix}\n",
        "\\begin{bmatrix}\n",
        "e^{A_2+A_3}*B_{11} & e^{A_3}*B_{21} & B_{31} \\\\\n",
        "e^{A_2+A_3}*B_{12} & e^{A_3}*B_{22} & B_{32}\n",
        "\\end{bmatrix}\n",
        "\\begin{bmatrix}\n",
        "e^{A_5+A_6}*B_{41} & e^{A_6}*B_{51} & B_{61} \\\\\n",
        " e^{A_5+A_6}*B_{42} & e^{A_6}*B_{52} & B_{62}\n",
        " \\end{bmatrix}\n",
        "\\begin{bmatrix}\n",
        "e^{A_8+A_9}*B_{71} & e^{A_9}*B_{81} & B_{91} \\\\\n",
        "e^{A_8+A_9}*B_{72} & e^{A_9}*B_{82} & B_{92}\n",
        "\\end{bmatrix}\n",
        "\\end{bmatrix}  $\n",
        "\n",
        "*\n",
        "\n",
        "$\\begin{bmatrix}\n",
        "  \\begin{bmatrix}\n",
        "  X_{11} & X_{12} & X_{13} & X_{14} \\\\ X_{21} & X_{22} & X_{23} & X_{24}\\\\ X_{31} & X_{32} & X_{33} & X_{34}\n",
        "  \\end{bmatrix}\n",
        "  \\begin{bmatrix}\n",
        "  X_{41} & X_{42} & X_{43} & X_{44} \\\\ X_{51} & X_{52} & X_{53} & X_{54} \\\\ X_{61} & X_{62} & X_{63} & X_{64}\n",
        "  \\end{bmatrix}\n",
        "  \\begin{bmatrix}\n",
        "  X_{71} & X_{72} & X_{73} & X_{74} \\\\\n",
        "  X_{81} & X_{82} & X_{83} & X_{84} \\\\\n",
        "  X_{91} & X_{92} & X_{93} & X_{94}\n",
        "  \\end{bmatrix}\n",
        "\\end{bmatrix} $\n",
        "\n",
        "=\n",
        "\n"
      ]
    },
    {
      "cell_type": "markdown",
      "metadata": {
        "id": "oc6SdhaSYaIN"
      },
      "source": [
        "$\n",
        "\\begin{bmatrix}\n",
        "\\begin{bmatrix}\n",
        "B_{11}X_{11}e^{A_2+A_3} + B_{21}X_{21}e^{A_3} + B_{31}X_{31} & B_{11}X_{12}e^{A_2+A_3} + B_{21}X_{22}e^{A_3} + B_{31}X_{32} & B_{11}X_{13}e^{A_2+A_3} + B_{21}X_{23}e^{A_3} + B_{31}X_{33} & B_{11}X_{14}e^{A_2+A_3} + B_{21}X_{24}e^{A_3} + B_{31}X_{34} \\\\\n",
        "B_{12}X_{11}e^{A_2+A_3} + B_{22}X_{21}e^{A_3} + B_{32}X_{31} & B_{12}X_{12}e^{A_2+A_3} + B_{22}X_{22}e^{A_3} + B_{32}X_{32} & B_{12}X_{13}e^{A_2+A_3} + B_{22}X_{23}e^{A_3} + B_{32}X_{33} & B_{12}X_{14}e^{A_2+A_3} + B_{22}X_{24}e^{A_3} + B_{32}X_{34}\n",
        "\\end{bmatrix}^T\n",
        "\\begin{bmatrix}\n",
        "B_{41}X_{41}e^{A_5+A_6} + B_{51}X_{51}e^{A_6} + B_{61}X_{61} & B_{41}X_{42}e^{A_5+A_6} + B_{51}X_{52}e^{A_6} + B_{61}X_{62} & B_{41}X_{43}e^{A_5+A_6} + B_{51}X_{53}e^{A_6} + B_{61}X_{63} & B_{41}X_{44}e^{A_5+A_6} + B_{51}X_{54}e^{A_6} + B_{61}X_{64} \\\\\n",
        "B_{42}X_{41}e^{A_5+A_6} + B_{52}X_{51}e^{A_6} + B_{62}X_{61} & B_{42}X_{42}e^{A_5+A_6} + B_{52}X_{52}e^{A_6} + B_{62}X_{62} & B_{42}X_{43}e^{A_5+A_6} + B_{52}X_{53}e^{A_6} + B_{62}X_{63} & B_{42}X_{44}e^{A_5+A_6} + B_{52}X_{54}e^{A_6} + B_{62}X_{64}\n",
        "\\end{bmatrix}^T\n",
        "\\begin{bmatrix}\n",
        "B_{71}X_{71}e^{A_8+A_9} + B_{81}X_{81}e^{A_9} + B_{91}X_{91} & B_{71}X_{72}e^{A_8+A_9} + B_{81}X_{82}e^{A_9} + B_{91}X_{92} & B_{71}X_{73}e^{A_8+A_9} + B_{81}X_{83}e^{A_9} + B_{91}X_{93} & B_{71}X_{74}e^{A_8+A_9} + B_{81}X_{84}e^{A_9} + B_{91}X_{94} \\\\\n",
        "B_{72}X_{71}e^{A_8+A_9} + B_{82}X_{81}e^{A_9} + B_{92}X_{91} & B_{72}X_{72}e^{A_8+A_9} + B_{82}X_{82}e^{A_9} + B_{92}X_{92} & B_{72}X_{73}e^{A_8+A_9} + B_{82}X_{83}e^{A_9} + B_{92}X_{93} & B_{72}X_{74}e^{A_8+A_9} + B_{82}X_{84}e^{A_9} + B_{92}X_{94}\n",
        "\\end{bmatrix}^T\n",
        "\\end{bmatrix}\n",
        "$"
      ]
    },
    {
      "cell_type": "markdown",
      "metadata": {
        "id": "xk70BpmMbduC"
      },
      "source": [
        "### d_state and d_head = 1"
      ]
    },
    {
      "cell_type": "markdown",
      "metadata": {
        "id": "8KaMLZEnbmXv"
      },
      "source": [
        "$ \\begin{bmatrix}\n",
        "e^{A_2+A_3} & e^{A_3} & 1 \\\\\n",
        "e^{A_5+A_6} & e^{A_6} & 1 \\\\\n",
        "e^{A_8+A_9} & e^{A_9} & 1\n",
        "\\end{bmatrix}  $\n",
        "*\n",
        "$ \\begin{bmatrix}\n",
        "B_1 & B_2 & B_3 \\\\\n",
        "B_4 & B_5 & B_6 \\\\\n",
        "B_7 & B_8 & B_9\n",
        "\\end{bmatrix}  $\n",
        "\n",
        "=\n",
        "\n",
        "$ \\begin{bmatrix}\n",
        "e^{A_2+A_3}*B_1 & e^{A_3}*B_2 & B_3 \\\\\n",
        "e^{A_5+A_6}*B4 & e^{A_6}*B5 & B_6 \\\\\n",
        "{A_8+A_9}*B_7 & e^{A_9}*B_8 & B_9\n",
        "\\end{bmatrix}  $\n",
        "(batch, n_heads, n_blocks, block_len,1)"
      ]
    },
    {
      "cell_type": "markdown",
      "metadata": {
        "id": "dt7FpPYclANG"
      },
      "source": [
        "(batch, n_heads, n_blocks, 1, block_len) * (batch, n_heads, n_blocks, block_len,1) = (batch, n_heads, n_blocks, 1, 1)"
      ]
    },
    {
      "cell_type": "markdown",
      "metadata": {
        "id": "uUO7-ILQfCNN"
      },
      "source": [
        "$ \\begin{bmatrix}\n",
        "e^{A_2+A_3}*B_1 & e^{A_3}*B_2 & B_3 \\\\\n",
        "e^{A_5+A_6}*B4 & e^{A_6}*B5 & B_6 \\\\\n",
        "{A_8+A_9}*B_7 & e^{A_9}*B_8 & B_9\n",
        "\\end{bmatrix}  $\n",
        "*\n",
        "$\n",
        "\\begin{bmatrix}\n",
        "X_1 & X_2 & X_3 \\\\\n",
        "X_4 & X_5 & X_6 \\\\\n",
        "X_7 & X_8 & X_9\n",
        "\\end{bmatrix}\n",
        "$\n",
        "\n",
        "=\n",
        "\n",
        "$ \\begin{bmatrix}\n",
        "e^{A_2+A_3}*B_1*X_1 + e^{A_3}*B_2*X_2 + B_3*X_3 \\\\\n",
        "e^{A_5+A_6}*B4*X_4 + e^{A_6}*B5*X_5 + B_6*X_6 \\\\\n",
        "e^{A_8+A_9}*B_7*X_7 + e^{A_9}*B_8*X_8 + B_9*X_9\n",
        "\\end{bmatrix}  $"
      ]
    },
    {
      "cell_type": "markdown",
      "metadata": {
        "id": "fvR3W4w8zNpX"
      },
      "source": [
        "## Computation of new_states"
      ]
    },
    {
      "cell_type": "code",
      "execution_count": null,
      "metadata": {
        "id": "wMlc08RxzatC"
      },
      "outputs": [],
      "source": [
        "n_heads = 1\n",
        "batch = 1\n",
        "seq_len = 9\n",
        "d_head = 1\n",
        "d_state = 1\n",
        "block_len = 3\n",
        "\n",
        "A = torch.randint(0, 10, (batch, seq_len, n_heads))\n",
        "X = torch.randint(0, 10, (batch, seq_len, n_heads, d_head))\n",
        "B = torch.randint(0, 10, (batch, seq_len, n_heads, d_state))\n",
        "C = torch.randint(0, 10, (batch, seq_len, n_heads, d_state))\n",
        "\n",
        "X, A, B, C = [rearrange(x, \"b (c l) ... -> b c l ...\", l=block_len) for x in (X, A, B, C)]\n",
        "# bring head dimension to the front\n",
        "A_rearranged = rearrange(A, \"b c l h -> b h c l\")\n",
        "\n",
        "A_cumsum = torch.cumsum(A_rearranged, dim=-1)\n",
        "\n",
        "decay_states = torch.exp((A_cumsum[:, :, :, -1:] - A_cumsum))\n",
        "\n",
        "states = torch.einsum(\"bclhn,bhcl,bclhp->bchpn\", B.float(), decay_states.float(), X.float())"
      ]
    },
    {
      "cell_type": "code",
      "execution_count": null,
      "metadata": {
        "id": "C3qMNzsf1LsY"
      },
      "outputs": [],
      "source": [
        "initial_states = None\n",
        "if initial_states is None:\n",
        "  initial_states = torch.zeros_like(states[:, :1])\n",
        "# (batch, n_blocks, n_heads, d_state, d_head) -> (batch, n_blocks+1, n_heads, d_state, d_head)\n",
        "states = torch.cat([initial_states, states], dim=1) # dim 1 is block dimension\n",
        "\n",
        "# the last values of every block gets selected and zero is padded at the front\n",
        "# (batch, n_heads,n_blocks, block_len) -> (batch, n_heads,n_blocks+1)\n",
        "A_cumsum_padded = F.pad(A_cumsum[:, :, :, -1], (1, 0))"
      ]
    },
    {
      "cell_type": "markdown",
      "metadata": {
        "id": "rh01zmqJ5ngn"
      },
      "source": [
        "(batch=1, n_heads=1, n_blocks=3, block_len=3)"
      ]
    },
    {
      "cell_type": "markdown",
      "metadata": {
        "id": "jUIER1FB5a9A"
      },
      "source": [
        "$ \\begin{bmatrix}\n",
        "[A_1 & A_1+A_2 & A_1+A_2+A_3 ][A_4 & A_4+A_5 & A_4+A_5+A_6][A_7 & A_7+A_8 & A_7+A_8+A_9]\n",
        "\\end{bmatrix}  $\n"
      ]
    },
    {
      "cell_type": "markdown",
      "metadata": {
        "id": "2hcddRVwELwG"
      },
      "source": [
        "(batch,=1, n_heads=1, n_blocks+1=4)"
      ]
    },
    {
      "cell_type": "markdown",
      "metadata": {
        "id": "6xp4a9hY65Ax"
      },
      "source": [
        "$ \\begin{bmatrix}\n",
        "[0 & A_1+A_2+A_3 & A_4+A_5+A_6 & A_7+A_8+A_9]\n",
        "\\end{bmatrix}  $"
      ]
    },
    {
      "cell_type": "code",
      "execution_count": null,
      "metadata": {
        "id": "ZQyBZaEL5aLL"
      },
      "outputs": [],
      "source": [
        "decay_chunk = torch.exp(segsum(A_cumsum_padded))"
      ]
    },
    {
      "cell_type": "markdown",
      "metadata": {
        "id": "CZw9_fvY6amP"
      },
      "source": [
        "$ \\begin{bmatrix}\n",
        "    1 & 0 & 0 & 0 \\\\\n",
        "    e^{A_1+A_2+A_3} & 1 & 0 & 0\\\\\n",
        "    e^{A_1+A_2+A_3+A_4+A_5+A_6}  & e^{A_4+A_5+A_6} & 1 & 0 \\\\\n",
        "    e^{A_1+A_2+A_3+A_4+A_5+A_6+A_7+A_8+A_9}  & e^{A_4+A_5+A_6+A_7+A_8+A_9} & e^{A_7+A_8+A_9} & 1\n",
        "\\end{bmatrix}  $"
      ]
    },
    {
      "cell_type": "code",
      "execution_count": null,
      "metadata": {
        "id": "fZJ0Y3lk6Z1S"
      },
      "outputs": [],
      "source": [
        "# decay_chunk: (batch, n_heads, n_blocks+1, n_blocks+1)\n",
        "# states:      (batch, n_blocks+1, n_heads, d_state, d_head)\n",
        "# new_states:  (batch, n_blocks+1, n_heads, d_state, d_head)\n",
        "new_states = torch.einsum(\"bhzc,bchpn->bzhpn\", decay_chunk, states)\n",
        "\n",
        "\n",
        "states_re = rearrange(states.float(), \"b c h p n -> b h p c n\")\n",
        "#         decay_chunk                      x                    states_re                  =                 new_states\n",
        "# (batch, n_heads, n_blocks+1, n_blocks+1) x (batch, n_heads, d_state, n_blocks+1, d_head) = (batch, n_heads, d_state, n_blocks+1, d_head)\n",
        "#         (n_blocks+1, n_blocks+1)         x                 (n_blocks+1, d_head)          =             (n_blocks+1, d_head)\n",
        "new_states_test = torch.matmul(decay_chunk.float(), states_re.float())\n",
        "new_states_test = rearrange(new_states_test, \"b h p z n -> b z h p n\")\n",
        "#torch.allclose(new_states.float(), new_states_test)\n",
        "states, final_state = new_states[:, :-1], new_states[:, -1]"
      ]
    },
    {
      "cell_type": "markdown",
      "metadata": {
        "id": "LZW907_rqZX5"
      },
      "source": [
        "### d_head, d_state = 1"
      ]
    },
    {
      "cell_type": "markdown",
      "metadata": {
        "id": "Q1p9RXoAqs7P"
      },
      "source": [
        "states:\n",
        "$ \\begin{bmatrix}\n",
        "0 \\\\\n",
        "e^{A_2+A_3}*B_1*X_1 + e^{A_3}*B_2*X_2 + B_3*X_3 \\\\\n",
        "e^{A_5+A_6}*B4*X_4 + e^{A_6}*B5*X_5 + B_6*X_6 \\\\\n",
        "e^{A_8+A_9}*B_7*X_7 + e^{A_9}*B_8*X_8 + B_9*X_9\n",
        "\\end{bmatrix}  $\n",
        "\n",
        "decay_cunks =\n",
        "$ \\begin{bmatrix}\n",
        "    1 & 0 & 0 & 0 \\\\\n",
        "    e^{A_1+A_2+A_3} & 1 & 0 & 0\\\\\n",
        "    e^{A_1+A_2+A_3+A_4+A_5+A_6}  & e^{A_4+A_5+A_6} & 1 & 0 \\\\\n",
        "    e^{A_1+A_2+A_3+A_4+A_5+A_6+A_7+A_8+A_9}  & e^{A_4+A_5+A_6+A_7+A_8+A_9} & e^{A_7+A_8+A_9} & 1\n",
        "\\end{bmatrix}  $\n",
        "\n",
        "new_states =\n",
        "$ \\begin{bmatrix}\n",
        "0 \\\\\n",
        "e^{A_2+A_3}B_1X_1 + e^{A_3}B_2X_2 + B_3X_3 \\\\\n",
        "e^{A_2+A_3+A_4+A_5+A_6}B_1X_1 + e^{A_3+A_4+A_5+A_6}B_2X_2 + e^{A_4+A_5+A_6}B_3X_3 + e^{A_5+A_6}B_4X_4 + e^{A_6}B_5X_5 + B_6X_6 \\\\\n",
        "e^{A_2+A_3+A_4+A_5+A_6+A_7+A_8+A_9}B_1X_1 + e^{A_3+A_4+A_5+A_6+A_7+A_8+A_9}B_2X_2 + e^{A_4+A_5+A_6+A_7+A_8+A_9}B_3X_3 + e^{A_5+A_6+A_7+A_8+A_9}B_4X_4 + e^{A_6+A_7+A_8+A_9}B_5X_5 + e^{A_7+A_8+A_9}B_6X_6 + e^{A_8+A_9}B_7X_7 + e^{A_9}B_8X_8 + B_9X_9\n",
        "\\end{bmatrix} $"
      ]
    },
    {
      "cell_type": "markdown",
      "metadata": {
        "id": "JUgaUMvfcohS"
      },
      "source": [
        "**MamBa Notation**"
      ]
    },
    {
      "cell_type": "markdown",
      "metadata": {
        "id": "KMTBvCABcvCh"
      },
      "source": [
        "$ \\begin{bmatrix}\n",
        "    1 & 0 & 0 & 0 \\\\\n",
        "    A_{3:0} & 1 & 0 & 0\\\\\n",
        "    A_{6:0}  & A_{6:3} & 1 & 0 \\\\\n",
        "    A_{9:0}  & A_{9:3} & A_{9:6} & 1\n",
        "\\end{bmatrix}  $\n",
        "\n",
        "*\n",
        "\n",
        "$ \\begin{bmatrix}\n",
        "0 \\\\\n",
        "A_{3:1}*B_1*X_1 + A_3*B_2*X_2 + B_3*X_3 \\\\\n",
        "A_{6:4}*B4*X_4 + A_6*B_5*X_5 + B_6*X_6 \\\\\n",
        "A_{9:7}*B_7*X_7 + A_9*B_8*X_8 + B_9*X_9\n",
        "\\end{bmatrix}  $\n",
        "\n",
        "=\n",
        "\n",
        "$ \\begin{bmatrix}\n",
        "0 \\\\\n",
        "A_{3:1}B_1X_1 + A_3B_2X_2 + B_3X_3 \\\\\n",
        "A_{6:1}B_1X_1 + A_{6:2}B_2X_2 + A_{6:3}B_3X_3 + A_{6:4}B_4X_4 + A_6B_5X_5 + B_6X_6 \\\\\n",
        "A_{9:1}B_1X_1 + A_{9:2}B_2X_2 + A_{9:3}B_3X_3 + A_{9:4}B_4X_4 + A_{9:5}B_5X_5 + A_{9:6}B_6X_6 + A_{9:7}B_7X_7 + A_9B_8X_8 + B_9X_9\n",
        "\\end{bmatrix} $"
      ]
    },
    {
      "cell_type": "markdown",
      "metadata": {
        "id": "sMc3RrYKFHB5"
      },
      "source": [
        "## Computation of Y_off (off diagonal blocks output)"
      ]
    },
    {
      "cell_type": "code",
      "execution_count": null,
      "metadata": {
        "id": "j3NHNaDuFWX6"
      },
      "outputs": [],
      "source": [
        "n_heads = 1\n",
        "batch = 1\n",
        "seq_len = 9\n",
        "d_head = 1\n",
        "d_state = 1\n",
        "block_len = 3\n",
        "\n",
        "\n",
        "A = torch.randint(0, 10, (batch, seq_len, n_heads))\n",
        "X = torch.randint(0, 10, (batch, seq_len, n_heads, d_head))\n",
        "B = torch.randint(0, 10, (batch, seq_len, n_heads, d_state))\n",
        "C = torch.randint(0, 10, (batch, seq_len, n_heads, d_state))\n",
        "\n",
        "X, A, B, C = [rearrange(x, \"b (c l) ... -> b c l ...\", l=block_len) for x in (X, A, B, C)]\n",
        "# A is a scalar for every head\n",
        "A = rearrange(A, \"b c l h -> b h c l\")\n",
        "# cumsum along the time dimension\n",
        "A_cumsum = torch.cumsum(A, dim=-1)\n",
        "\n",
        "# 1. Compute the output for each intra-chunk (diagonal blocks)\n",
        "L = torch.exp(segsum(A))\n",
        "Y_diag = torch.einsum(\"bclhn,bcshn,bhcls,bcshp->bclhp\", C, B, L, X)\n",
        "\n",
        "# 2. Compute the state for each intra-chunk\n",
        "# (right term of low-rank factorization of off-diagonal blocks; B terms)\n",
        "decay_states = torch.exp((A_cumsum[:, :, :, -1:] - A_cumsum))\n",
        "states = torch.einsum(\"bclhn,bhcl,bclhp->bchpn\", B, decay_states, X)\n",
        "\n",
        "# 3. Compute the inter-chunk SSM recurrence; produces correct SSM states at chunk boundaries # (middle term of factorization of off-diag blocks; A terms)\n",
        "if initial_states is None:\n",
        "  initial_states = torch.zeros_like(states[:, :1])\n",
        "states = torch.cat([initial_states, states], dim=1)\n",
        "decay_chunk = torch.exp(segsum(F.pad(A_cumsum[:, :, :, -1], (1, 0))))\n",
        "new_states = torch.einsum(\"bhzc,bchpn->bzhpn\", decay_chunk, states)\n",
        "states, final_state = new_states[:, :-1], new_states[:, -1]"
      ]
    },
    {
      "cell_type": "code",
      "execution_count": null,
      "metadata": {
        "id": "ojt9UvKEGfMx"
      },
      "outputs": [],
      "source": [
        "state_decay_out = torch.exp(A_cumsum)\n",
        "Y_off = torch.einsum('bclhn,bchpn,bhcl->bclhp', C, states, state_decay_out)\n",
        "Y = rearrange(Y_diag+Y_off, \"b c l h p -> b (c l) h p\")"
      ]
    },
    {
      "cell_type": "markdown",
      "metadata": {
        "id": "sGI26fUWMAgi"
      },
      "source": [
        "C (batch=1, n_blocks=3, block_len=3, n_heads=1, d_state=1) =\n",
        "$ \\begin{bmatrix}\n",
        "[C_1 & C_2 & C_3 ][C_4 & C_5 & C_6][C_7 & C_8 & C_9]\n",
        "\\end{bmatrix}  $"
      ]
    },
    {
      "cell_type": "markdown",
      "metadata": {
        "id": "x9SekQXcM8r1"
      },
      "source": [
        "states (batch=1, n_blocks=3, n_heads=1, d_head=1, d_state=1) =\n",
        "$ \\begin{bmatrix}\n",
        "0 &\n",
        "e^{A_2+A_3}B_1X_1 + e^{A_3}B_2X_2 + B_3X_3 &\n",
        "e^{A_2+A_3+A_4+A_5+A_6}B_1X_1 + e^{A_3+A_4+A_5+A_6}B_2X_2 + e^{A_4+A_5+A_6}B_3X_3 + e^{A_5+A_6}B_4X_4 + e^{A_6}B_5X_5 + B_6X_6\n",
        "\\end{bmatrix} $"
      ]
    },
    {
      "cell_type": "markdown",
      "metadata": {
        "id": "mE_qMVMZzIcj"
      },
      "source": [
        "state_decay_out (batch=1, n_heads=1, n_blocks=3, block_len=3) =\n",
        "\n",
        "\n",
        "$ \\begin{bmatrix}\n",
        "[e^{A_1} & e^{A_1+A_2} & e^{A_1+A_2+A_3} ][e^{A_4} & e^{A_4+A_5} & e^{A_4+A_5+A_6}][e^{A_7} & e^{A_7+A_8} & e^{A_7+A_8+A_9}]\n",
        "\\end{bmatrix}  $"
      ]
    },
    {
      "cell_type": "markdown",
      "metadata": {
        "id": "IsnERwOSNnM8"
      },
      "source": [
        "(batch, n_blocks, block_len, n_heads, d_state) * (batch, n_blocks, n_heads, d_state, d_head) = (batch, n_blocks, block_len, n_heads, d_head)"
      ]
    },
    {
      "cell_type": "markdown",
      "metadata": {
        "id": "ZwE4iniUM4eE"
      },
      "source": [
        "$ \\begin{bmatrix}\n",
        "[C_1 & C_2 & C_3 ][C_4 & C_5 & C_6][C_7 & C_8 & C_9]\n",
        "\\end{bmatrix}  $\n",
        "\n",
        "*\n",
        "\n",
        "$ \\begin{bmatrix}\n",
        "0 \\\\\n",
        "e^{A_2+A_3}B_1X_1 + e^{A_3}B_2X_2 + B_3X_3 \\\\\n",
        "e^{A_2+A_3+A_4+A_5+A_6}B_1X_1 + e^{A_3+A_4+A_5+A_6}B_2X_2 + e^{A_4+A_5+A_6}B_3X_3 + e^{A_5+A_6}B_4X_4 + e^{A_6}B_5X_5 + B_6X_6\n",
        "\\end{bmatrix} $\n",
        "\n",
        "=\n",
        "$\\begin{bmatrix}\n",
        "  \\begin{bmatrix}\n",
        "  0 &\n",
        "  (e^{A_2+A_3}B_1X_1 + e^{A_3}B_2X_2 + B_3X_3)*C_2 &\n",
        "  (e^{A_2+A_3+A_4+A_5+A_6}B_1X_1 + e^{A_3+A_4+A_5+A_6}B_2X_2 + e^{A_4+A_5+A_6}B_3X_3 + e^{A_5+A_6}B_4X_4 + e^{A_6}B_5X_5 + B_6X_6)*C_3\n",
        "  \\end{bmatrix}\n",
        "  \\begin{bmatrix}\n",
        "  0 &\n",
        "  (e^{A_2+A_3}B_1X_1 + e^{A_3}B_2X_2 + B_3X_3)*C_5 &\n",
        "  (e^{A_2+A_3+A_4+A_5+A_6}B_1X_1 + e^{A_3+A_4+A_5+A_6}B_2X_2 + e^{A_4+A_5+A_6}B_3X_3 + e^{A_5+A_6}B_4X_4 + e^{A_6}B_5X_5 + B_6X_6)*C_6\n",
        "  \\end{bmatrix}\n",
        "  \\begin{bmatrix}\n",
        "  0 &\n",
        "  (e^{A_2+A_3}B_1X_1 + e^{A_3}B_2X_2 + B_3X_3)*C_8 &\n",
        "  (e^{A_2+A_3+A_4+A_5+A_6}B_1X_1 + e^{A_3+A_4+A_5+A_6}B_2X_2 + e^{A_4+A_5+A_6}B_3X_3 + e^{A_5+A_6}B_4X_4 + e^{A_6}B_5X_5 + B_6X_6)*C_9\n",
        "  \\end{bmatrix}\n",
        "\\end{bmatrix} $"
      ]
    },
    {
      "cell_type": "markdown",
      "metadata": {
        "id": "TfkImigPPmxq"
      },
      "source": [
        "(batch, n_blocks, block_len, n_heads, d_head) * (batch, n_blocks, block_len) = (batch, n_blocks, block_len, n_heads, d_head)"
      ]
    },
    {
      "cell_type": "markdown",
      "metadata": {
        "id": "iGadyGmXSeza"
      },
      "source": [
        "$\\begin{bmatrix}\n",
        "  0 &\n",
        "  (e^{A_2+A_3}B_1X_1 + e^{A_3}B_2X_2 + B_3X_3)*C_2*e^{A_1+A_2}  &\n",
        "  (e^{A_2+A_3+A_4+A_5+A_6}B_1X_1 + e^{A_3+A_4+A_5+A_6}B_2X_2 + e^{A_4+A_5+A_6}B_3X_3 + e^{A_5+A_6}B_4X_4 + e^{A_6}B_5X_5 + B_6X_6)*C_3*e^{A_1+A_2+A_3} \\\\\n",
        "  0 &\n",
        "  (e^{A_2+A_3}B_1X_1 + e^{A_3}B_2X_2 + B_3X_3)*C_5*e^{A_4+A_5} &\n",
        "  (e^{A_2+A_3+A_4+A_5+A_6}B_1X_1 + e^{A_3+A_4+A_5+A_6}B_2X_2 + e^{A_4+A_5+A_6} B_3X_3 + e^{A_5+A_6}B_4X_4 + e^{A_6}B_5X_5 + B_6X_6)*C_6*e^{A_4+A_5+A_6} \\\\\n",
        "  0 &\n",
        "  (e^{A_2+A_3}B_1X_1 + e^{A_3}B_2X_2 + B_3X_3)*C_8*e^{A_7+A_8} &\n",
        "  (e^{A_2+A_3+A_4+A_5+A_6}B_1X_1 + e^{A_3+A_4+A_5+A_6}B_2X_2 + e^{A_4+A_5+A_6}B_3X_3 + e^{A_5+A_6}B_4X_4 + e^{A_6}B_5X_5 + B_6X_6)*C_9*e^{A_7+A_8+A_9}  \n",
        "\\end{bmatrix}\n",
        "$"
      ]
    }
  ],
  "metadata": {
    "colab": {
      "collapsed_sections": [
        "MhzRCkZD1XaK",
        "14EyXkpDa6oL",
        "CrAihTOkJoRK",
        "CpcKEULKWfRI",
        "fvR3W4w8zNpX",
        "sMc3RrYKFHB5"
      ],
      "provenance": []
    },
    "kernelspec": {
      "display_name": "Python 3",
      "name": "python3"
    },
    "language_info": {
      "name": "python"
    }
  },
  "nbformat": 4,
  "nbformat_minor": 0
}
